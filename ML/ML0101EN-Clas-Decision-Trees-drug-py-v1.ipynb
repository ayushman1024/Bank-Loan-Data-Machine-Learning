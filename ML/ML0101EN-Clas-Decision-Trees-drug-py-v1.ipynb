{
 "cells": [
  {
   "cell_type": "markdown",
   "metadata": {
    "button": false,
    "new_sheet": false,
    "run_control": {
     "read_only": false
    }
   },
   "source": [
    "<a href=\"https://www.bigdatauniversity.com\"><img src=\"https://ibm.box.com/shared/static/cw2c7r3o20w9zn8gkecaeyjhgw3xdgbj.png\" width=\"400\" align=\"center\"></a>\n",
    "\n",
    "<h1><center>Decision Trees</center></h1>"
   ]
  },
  {
   "cell_type": "markdown",
   "metadata": {
    "button": false,
    "new_sheet": false,
    "run_control": {
     "read_only": false
    }
   },
   "source": [
    "In this lab exercise, you will learn a popular machine learning algorithm, Decision Tree. You will use this classification algorithm to build a model from historical data of patients, and their response to different medications. Then you use the trained decision tree to predict the class of a unknown patient, or to find a proper drug for a new patient."
   ]
  },
  {
   "cell_type": "markdown",
   "metadata": {},
   "source": [
    "<h1>Table of contents</h1>\n",
    "\n",
    "<div class=\"alert alert-block alert-info\" style=\"margin-top: 20px\">\n",
    "    <ol>\n",
    "        <li><a href=\"#about_dataset\">About the dataset</a></li>\n",
    "        <li><a href=\"#downloading_data\">Downloading the Data</a></li>\n",
    "        <li><a href=\"#pre-processing\">Pre-processing</a></li>\n",
    "        <li><a href=\"#setting_up_tree\">Setting up the Decision Tree</a></li>\n",
    "        <li><a href=\"#modeling\">Modeling</a></li>\n",
    "        <li><a href=\"#prediction\">Prediction</a></li>\n",
    "        <li><a href=\"#evaluation\">Evaluation</a></li>\n",
    "        <li><a href=\"#visualization\">Visualization</a></li>\n",
    "    </ol>\n",
    "</div>\n",
    "<br>\n",
    "<hr>"
   ]
  },
  {
   "cell_type": "markdown",
   "metadata": {
    "button": false,
    "new_sheet": false,
    "run_control": {
     "read_only": false
    }
   },
   "source": [
    "Import the Following Libraries:\n",
    "<ul>\n",
    "    <li> <b>numpy (as np)</b> </li>\n",
    "    <li> <b>pandas</b> </li>\n",
    "    <li> <b>DecisionTreeClassifier</b> from <b>sklearn.tree</b> </li>\n",
    "</ul>"
   ]
  },
  {
   "cell_type": "code",
   "execution_count": 1,
   "metadata": {
    "button": false,
    "new_sheet": false,
    "run_control": {
     "read_only": false
    }
   },
   "outputs": [],
   "source": [
    "import numpy as np \n",
    "import pandas as pd\n",
    "    from sklearn.tree import DecisionTreeClassifier"
   ]
  },
  {
   "cell_type": "markdown",
   "metadata": {
    "button": false,
    "new_sheet": false,
    "run_control": {
     "read_only": false
    }
   },
   "source": [
    "<div id=\"about_dataset\">\n",
    "    <h2>About the dataset</h2>\n",
    "    Imagine that you are a medical researcher compiling data for a study. You have collected data about a set of patients, all of whom suffered from the same illness. During their course of treatment, each patient responded to one of 5 medications, Drug A, Drug B, Drug c, Drug x and y. \n",
    "    <br>\n",
    "    <br>\n",
    "    Part of your job is to build a model to find out which drug might be appropriate for a future patient with the same illness. The feature sets of this dataset are Age, Sex, Blood Pressure, and Cholesterol of patients, and the target is the drug that each patient responded to.\n",
    "    <br>\n",
    "    <br>\n",
    "    It is a sample of binary classifier, and you can use the training part of the dataset \n",
    "    to build a decision tree, and then use it to predict the class of a unknown patient, or to prescribe it to a new patient.\n",
    "</div>\n"
   ]
  },
  {
   "cell_type": "markdown",
   "metadata": {
    "button": false,
    "new_sheet": false,
    "run_control": {
     "read_only": false
    }
   },
   "source": [
    "<div id=\"downloading_data\"> \n",
    "    <h2>Downloading the Data</h2>\n",
    "    To download the data, we will use !wget to download it from IBM Object Storage.\n",
    "</div>"
   ]
  },
  {
   "cell_type": "code",
   "execution_count": 2,
   "metadata": {},
   "outputs": [],
   "source": [
    "# !wget -O drug200.csv https://s3-api.us-geo.objectstorage.softlayer.net/cf-courses-data/CognitiveClass/ML0101ENv3/labs/drug200.csv"
   ]
  },
  {
   "cell_type": "markdown",
   "metadata": {},
   "source": [
    "__Did you know?__ When it comes to Machine Learning, you will likely be working with large datasets. As a business, where can you host your data? IBM is offering a unique opportunity for businesses, with 10 Tb of IBM Cloud Object Storage: [Sign up now for free](http://cocl.us/ML0101EN-IBM-Offer-CC)"
   ]
  },
  {
   "cell_type": "markdown",
   "metadata": {},
   "source": [
    "now, read data using pandas dataframe:"
   ]
  },
  {
   "cell_type": "code",
   "execution_count": 3,
   "metadata": {
    "button": false,
    "new_sheet": false,
    "run_control": {
     "read_only": false
    }
   },
   "outputs": [
    {
     "data": {
      "text/html": [
       "<div>\n",
       "<style scoped>\n",
       "    .dataframe tbody tr th:only-of-type {\n",
       "        vertical-align: middle;\n",
       "    }\n",
       "\n",
       "    .dataframe tbody tr th {\n",
       "        vertical-align: top;\n",
       "    }\n",
       "\n",
       "    .dataframe thead th {\n",
       "        text-align: right;\n",
       "    }\n",
       "</style>\n",
       "<table border=\"1\" class=\"dataframe\">\n",
       "  <thead>\n",
       "    <tr style=\"text-align: right;\">\n",
       "      <th></th>\n",
       "      <th>Age</th>\n",
       "      <th>Sex</th>\n",
       "      <th>BP</th>\n",
       "      <th>Cholesterol</th>\n",
       "      <th>Na_to_K</th>\n",
       "      <th>Drug</th>\n",
       "    </tr>\n",
       "  </thead>\n",
       "  <tbody>\n",
       "    <tr>\n",
       "      <td>0</td>\n",
       "      <td>23</td>\n",
       "      <td>F</td>\n",
       "      <td>HIGH</td>\n",
       "      <td>HIGH</td>\n",
       "      <td>25.355</td>\n",
       "      <td>drugY</td>\n",
       "    </tr>\n",
       "    <tr>\n",
       "      <td>1</td>\n",
       "      <td>47</td>\n",
       "      <td>M</td>\n",
       "      <td>LOW</td>\n",
       "      <td>HIGH</td>\n",
       "      <td>13.093</td>\n",
       "      <td>drugC</td>\n",
       "    </tr>\n",
       "    <tr>\n",
       "      <td>2</td>\n",
       "      <td>47</td>\n",
       "      <td>M</td>\n",
       "      <td>LOW</td>\n",
       "      <td>HIGH</td>\n",
       "      <td>10.114</td>\n",
       "      <td>drugC</td>\n",
       "    </tr>\n",
       "    <tr>\n",
       "      <td>3</td>\n",
       "      <td>28</td>\n",
       "      <td>F</td>\n",
       "      <td>NORMAL</td>\n",
       "      <td>HIGH</td>\n",
       "      <td>7.798</td>\n",
       "      <td>drugX</td>\n",
       "    </tr>\n",
       "    <tr>\n",
       "      <td>4</td>\n",
       "      <td>61</td>\n",
       "      <td>F</td>\n",
       "      <td>LOW</td>\n",
       "      <td>HIGH</td>\n",
       "      <td>18.043</td>\n",
       "      <td>drugY</td>\n",
       "    </tr>\n",
       "  </tbody>\n",
       "</table>\n",
       "</div>"
      ],
      "text/plain": [
       "   Age Sex      BP Cholesterol  Na_to_K   Drug\n",
       "0   23   F    HIGH        HIGH   25.355  drugY\n",
       "1   47   M     LOW        HIGH   13.093  drugC\n",
       "2   47   M     LOW        HIGH   10.114  drugC\n",
       "3   28   F  NORMAL        HIGH    7.798  drugX\n",
       "4   61   F     LOW        HIGH   18.043  drugY"
      ]
     },
     "execution_count": 3,
     "metadata": {},
     "output_type": "execute_result"
    }
   ],
   "source": [
    "my_data = pd.read_csv(\"drug200.csv\", delimiter=\",\")\n",
    "my_data[0:5]"
   ]
  },
  {
   "cell_type": "markdown",
   "metadata": {
    "button": false,
    "new_sheet": false,
    "run_control": {
     "read_only": false
    }
   },
   "source": [
    "<div id=\"practice\"> \n",
    "    <h3>Practice</h3> \n",
    "    What is the size of data? \n",
    "</div>"
   ]
  },
  {
   "cell_type": "code",
   "execution_count": 4,
   "metadata": {
    "button": false,
    "new_sheet": false,
    "run_control": {
     "read_only": false
    }
   },
   "outputs": [
    {
     "data": {
      "text/plain": [
       "(200, 6)"
      ]
     },
     "execution_count": 4,
     "metadata": {},
     "output_type": "execute_result"
    }
   ],
   "source": [
    "# write your code here\n",
    "my_data.shape\n",
    "\n"
   ]
  },
  {
   "cell_type": "markdown",
   "metadata": {},
   "source": [
    "<div href=\"pre-processing\">\n",
    "    <h2>Pre-processing</h2>\n",
    "</div>"
   ]
  },
  {
   "cell_type": "markdown",
   "metadata": {
    "button": false,
    "new_sheet": false,
    "run_control": {
     "read_only": false
    }
   },
   "source": [
    "Using <b>my_data</b> as the Drug.csv data read by pandas, declare the following variables: <br>\n",
    "\n",
    "<ul>\n",
    "    <li> <b> X </b> as the <b> Feature Matrix </b> (data of my_data) </li>\n",
    "    <li> <b> y </b> as the <b> response vector (target) </b> </li>\n",
    "</ul>"
   ]
  },
  {
   "cell_type": "markdown",
   "metadata": {
    "button": false,
    "new_sheet": false,
    "run_control": {
     "read_only": false
    }
   },
   "source": [
    "Remove the column containing the target name since it doesn't contain numeric values."
   ]
  },
  {
   "cell_type": "code",
   "execution_count": 5,
   "metadata": {},
   "outputs": [
    {
     "data": {
      "text/plain": [
       "array([[23, 'F', 'HIGH', 'HIGH', 25.355],\n",
       "       [47, 'M', 'LOW', 'HIGH', 13.093],\n",
       "       [47, 'M', 'LOW', 'HIGH', 10.113999999999999],\n",
       "       [28, 'F', 'NORMAL', 'HIGH', 7.797999999999999],\n",
       "       [61, 'F', 'LOW', 'HIGH', 18.043]], dtype=object)"
      ]
     },
     "execution_count": 5,
     "metadata": {},
     "output_type": "execute_result"
    }
   ],
   "source": [
    "X = my_data[['Age', 'Sex', 'BP', 'Cholesterol', 'Na_to_K']].values\n",
    "X[0:5]"
   ]
  },
  {
   "cell_type": "markdown",
   "metadata": {},
   "source": [
    "As you may figure out, some features in this dataset are categorical such as __Sex__ or __BP__. Unfortunately, Sklearn Decision Trees do not handle categorical variables. But still we can convert these features to numerical values. __pandas.get_dummies()__\n",
    "Convert categorical variable into dummy/indicator variables."
   ]
  },
  {
   "cell_type": "code",
   "execution_count": 6,
   "metadata": {},
   "outputs": [
    {
     "data": {
      "text/plain": [
       "array([[23, 0, 0, 0, 25.355],\n",
       "       [47, 1, 1, 0, 13.093],\n",
       "       [47, 1, 1, 0, 10.113999999999999],\n",
       "       [28, 0, 2, 0, 7.797999999999999],\n",
       "       [61, 0, 1, 0, 18.043]], dtype=object)"
      ]
     },
     "execution_count": 6,
     "metadata": {},
     "output_type": "execute_result"
    }
   ],
   "source": [
    "from sklearn import preprocessing\n",
    "# converts categorical values into numerical values , LabelEncoder.transform()\n",
    "le_sex = preprocessing.LabelEncoder()\n",
    "le_sex.fit(['F','M'])\n",
    "X[:,1] = le_sex.transform(X[:,1]) \n",
    "\n",
    "\n",
    "le_BP = preprocessing.LabelEncoder()\n",
    "le_BP.fit([ 'LOW', 'NORMAL', 'HIGH'])\n",
    "X[:,2] = le_BP.transform(X[:,2])\n",
    "\n",
    "\n",
    "le_Chol = preprocessing.LabelEncoder()\n",
    "le_Chol.fit([ 'NORMAL', 'HIGH'])\n",
    "X[:,3] = le_Chol.transform(X[:,3]) \n",
    "\n",
    "X[0:5]\n"
   ]
  },
  {
   "cell_type": "markdown",
   "metadata": {},
   "source": [
    "Now we can fill the target variable."
   ]
  },
  {
   "cell_type": "code",
   "execution_count": 7,
   "metadata": {
    "button": false,
    "new_sheet": false,
    "run_control": {
     "read_only": false
    }
   },
   "outputs": [
    {
     "data": {
      "text/plain": [
       "0    drugY\n",
       "1    drugC\n",
       "2    drugC\n",
       "3    drugX\n",
       "4    drugY\n",
       "Name: Drug, dtype: object"
      ]
     },
     "execution_count": 7,
     "metadata": {},
     "output_type": "execute_result"
    }
   ],
   "source": [
    "y = my_data[\"Drug\"]\n",
    "y[0:5]"
   ]
  },
  {
   "cell_type": "markdown",
   "metadata": {
    "button": false,
    "new_sheet": false,
    "run_control": {
     "read_only": false
    }
   },
   "source": [
    "<hr>\n",
    "\n",
    "<div id=\"setting_up_tree\">\n",
    "    <h2>Setting up the Decision Tree</h2>\n",
    "    We will be using <b>train/test split</b> on our <b>decision tree</b>. Let's import <b>train_test_split</b> from <b>sklearn.cross_validation</b>.\n",
    "</div>"
   ]
  },
  {
   "cell_type": "code",
   "execution_count": 8,
   "metadata": {
    "button": false,
    "new_sheet": false,
    "run_control": {
     "read_only": false
    }
   },
   "outputs": [],
   "source": [
    "from sklearn.model_selection import train_test_split"
   ]
  },
  {
   "cell_type": "markdown",
   "metadata": {
    "button": false,
    "new_sheet": false,
    "run_control": {
     "read_only": false
    }
   },
   "source": [
    "Now <b> train_test_split </b> will return 4 different parameters. We will name them:<br>\n",
    "X_trainset, X_testset, y_trainset, y_testset <br> <br>\n",
    "The <b> train_test_split </b> will need the parameters: <br>\n",
    "X, y, test_size=0.3, and random_state=3. <br> <br>\n",
    "The <b>X</b> and <b>y</b> are the arrays required before the split, the <b>test_size</b> represents the ratio of the testing dataset, and the <b>random_state</b> ensures that we obtain the same splits."
   ]
  },
  {
   "cell_type": "code",
   "execution_count": 12,
   "metadata": {
    "button": false,
    "new_sheet": false,
    "run_control": {
     "read_only": false
    }
   },
   "outputs": [],
   "source": [
    "X_trainset, X_testset, y_trainset, y_testset = train_test_split(X, y, test_size=0.3, random_state=3)"
   ]
  },
  {
   "cell_type": "markdown",
   "metadata": {
    "button": false,
    "new_sheet": false,
    "run_control": {
     "read_only": false
    }
   },
   "source": [
    "<h3>Practice</h3>\n",
    "Print the shape of X_trainset and y_trainset. Ensure that the dimensions match"
   ]
  },
  {
   "cell_type": "code",
   "execution_count": 13,
   "metadata": {
    "button": false,
    "new_sheet": false,
    "run_control": {
     "read_only": false
    }
   },
   "outputs": [
    {
     "data": {
      "text/plain": [
       "True"
      ]
     },
     "execution_count": 13,
     "metadata": {},
     "output_type": "execute_result"
    }
   ],
   "source": [
    "# your code\n",
    "X_trainset.shape[0] is y_trainset.shape[0]\n"
   ]
  },
  {
   "cell_type": "markdown",
   "metadata": {
    "button": false,
    "new_sheet": false,
    "run_control": {
     "read_only": false
    }
   },
   "source": [
    "Print the shape of X_testset and y_testset. Ensure that the dimensions match"
   ]
  },
  {
   "cell_type": "code",
   "execution_count": 14,
   "metadata": {
    "button": false,
    "new_sheet": false,
    "run_control": {
     "read_only": false
    }
   },
   "outputs": [
    {
     "data": {
      "text/plain": [
       "True"
      ]
     },
     "execution_count": 14,
     "metadata": {},
     "output_type": "execute_result"
    }
   ],
   "source": [
    "# your code\n",
    "X_testset.shape[0] is y_testset.shape[0]\n",
    "\n"
   ]
  },
  {
   "cell_type": "markdown",
   "metadata": {
    "button": false,
    "new_sheet": false,
    "run_control": {
     "read_only": false
    }
   },
   "source": [
    "<hr>\n",
    "\n",
    "<div id=\"modeling\">\n",
    "    <h2>Modeling</h2>\n",
    "    We will first create an instance of the <b>DecisionTreeClassifier</b> called <b>drugTree</b>.<br>\n",
    "    Inside of the classifier, specify <i> criterion=\"entropy\" </i> so we can see the information gain of each node.\n",
    "</div>"
   ]
  },
  {
   "cell_type": "code",
   "execution_count": 15,
   "metadata": {
    "button": false,
    "new_sheet": false,
    "run_control": {
     "read_only": false
    }
   },
   "outputs": [
    {
     "data": {
      "text/plain": [
       "DecisionTreeClassifier(class_weight=None, criterion='entropy', max_depth=4,\n",
       "            max_features=None, max_leaf_nodes=None,\n",
       "            min_impurity_decrease=0.0, min_impurity_split=None,\n",
       "            min_samples_leaf=1, min_samples_split=2,\n",
       "            min_weight_fraction_leaf=0.0, presort=False, random_state=None,\n",
       "            splitter='best')"
      ]
     },
     "execution_count": 15,
     "metadata": {},
     "output_type": "execute_result"
    }
   ],
   "source": [
    "drugTree = DecisionTreeClassifier(criterion=\"entropy\", max_depth = 4)\n",
    "drugTree # it shows the default parameters"
   ]
  },
  {
   "cell_type": "markdown",
   "metadata": {
    "button": false,
    "new_sheet": false,
    "run_control": {
     "read_only": false
    }
   },
   "source": [
    "Next, we will fit the data with the training feature matrix <b> X_trainset </b> and training  response vector <b> y_trainset </b>"
   ]
  },
  {
   "cell_type": "code",
   "execution_count": 16,
   "metadata": {
    "button": false,
    "new_sheet": false,
    "run_control": {
     "read_only": false
    }
   },
   "outputs": [
    {
     "data": {
      "text/plain": [
       "DecisionTreeClassifier(class_weight=None, criterion='entropy', max_depth=4,\n",
       "            max_features=None, max_leaf_nodes=None,\n",
       "            min_impurity_decrease=0.0, min_impurity_split=None,\n",
       "            min_samples_leaf=1, min_samples_split=2,\n",
       "            min_weight_fraction_leaf=0.0, presort=False, random_state=None,\n",
       "            splitter='best')"
      ]
     },
     "execution_count": 16,
     "metadata": {},
     "output_type": "execute_result"
    }
   ],
   "source": [
    "drugTree.fit(X_trainset,y_trainset)"
   ]
  },
  {
   "cell_type": "markdown",
   "metadata": {
    "button": false,
    "new_sheet": false,
    "run_control": {
     "read_only": false
    }
   },
   "source": [
    "<hr>\n",
    "\n",
    "<div id=\"prediction\">\n",
    "    <h2>Prediction</h2>\n",
    "    Let's make some <b>predictions</b> on the testing dataset and store it into a variable called <b>predTree</b>.\n",
    "</div>"
   ]
  },
  {
   "cell_type": "code",
   "execution_count": 17,
   "metadata": {
    "button": false,
    "new_sheet": false,
    "run_control": {
     "read_only": false
    }
   },
   "outputs": [],
   "source": [
    "predTree = drugTree.predict(X_testset)"
   ]
  },
  {
   "cell_type": "markdown",
   "metadata": {
    "button": false,
    "new_sheet": false,
    "run_control": {
     "read_only": false
    }
   },
   "source": [
    "You can print out <b>predTree</b> and <b>y_testset</b> if you want to visually compare the prediction to the actual values."
   ]
  },
  {
   "cell_type": "code",
   "execution_count": 28,
   "metadata": {
    "button": false,
    "new_sheet": false,
    "run_control": {
     "read_only": false
    },
    "scrolled": true
   },
   "outputs": [
    {
     "name": "stdout",
     "output_type": "stream",
     "text": [
      "['drugY' 'drugX' 'drugX' 'drugX' 'drugX']\n",
      "40     drugY\n",
      "51     drugX\n",
      "139    drugX\n",
      "197    drugX\n",
      "170    drugX\n",
      "Name: Drug, dtype: object\n"
     ]
    }
   ],
   "source": [
    "print (predTree [0:5])\n",
    "print (y_testset [0:5])\n"
   ]
  },
  {
   "cell_type": "markdown",
   "metadata": {
    "button": false,
    "new_sheet": false,
    "run_control": {
     "read_only": false
    }
   },
   "source": [
    "<hr>\n",
    "\n",
    "<div id=\"evaluation\">\n",
    "    <h2>Evaluation</h2>\n",
    "    Next, let's import <b>metrics</b> from sklearn and check the accuracy of our model.\n",
    "</div>"
   ]
  },
  {
   "cell_type": "code",
   "execution_count": 19,
   "metadata": {
    "button": false,
    "new_sheet": false,
    "run_control": {
     "read_only": false
    }
   },
   "outputs": [
    {
     "name": "stdout",
     "output_type": "stream",
     "text": [
      "DecisionTrees's Accuracy:  0.9833333333333333\n"
     ]
    }
   ],
   "source": [
    "from sklearn import metrics\n",
    "import matplotlib.pyplot as plt\n",
    "print(\"DecisionTrees's Accuracy: \", metrics.accuracy_score(y_testset, predTree))"
   ]
  },
  {
   "cell_type": "markdown",
   "metadata": {
    "button": false,
    "new_sheet": false,
    "run_control": {
     "read_only": false
    }
   },
   "source": [
    "__Accuracy classification score__ computes subset accuracy: the set of labels predicted for a sample must exactly match the corresponding set of labels in y_true.  \n",
    "\n",
    "In multilabel classification, the function returns the subset accuracy. If the entire set of predicted labels for a sample strictly match with the true set of labels, then the subset accuracy is 1.0; otherwise it is 0.0.\n"
   ]
  },
  {
   "cell_type": "markdown",
   "metadata": {
    "button": false,
    "new_sheet": false,
    "run_control": {
     "read_only": false
    }
   },
   "source": [
    "## Practice \n",
    "Can you calculate the accuracy score without sklearn ?"
   ]
  },
  {
   "cell_type": "code",
   "execution_count": 34,
   "metadata": {
    "button": false,
    "new_sheet": false,
    "run_control": {
     "read_only": false
    }
   },
   "outputs": [
    {
     "name": "stdout",
     "output_type": "stream",
     "text": [
      "drugY\n",
      "drugX\n",
      "drugX\n",
      "drugX\n",
      "drugX\n",
      "drugC\n",
      "drugY\n",
      "drugA\n",
      "drugB\n",
      "drugA\n",
      "drugY\n",
      "drugA\n",
      "drugY\n",
      "drugY\n",
      "drugX\n",
      "drugY\n",
      "drugX\n",
      "drugX\n",
      "drugB\n",
      "drugX\n",
      "drugX\n",
      "drugY\n",
      "drugY\n",
      "drugY\n",
      "drugX\n",
      "drugB\n",
      "drugY\n",
      "drugY\n",
      "drugA\n",
      "drugX\n",
      "drugB\n",
      "drugC\n",
      "drugC\n",
      "drugX\n",
      "drugX\n",
      "drugC\n",
      "drugY\n",
      "drugX\n",
      "drugX\n",
      "drugX\n",
      "drugA\n",
      "drugY\n",
      "drugC\n",
      "drugY\n",
      "drugA\n",
      "drugY\n",
      "drugY\n",
      "drugY\n",
      "drugY\n",
      "drugX\n",
      "drugB\n",
      "drugX\n",
      "drugY\n",
      "drugX\n",
      "drugY\n",
      "drugY\n",
      "drugA\n",
      "drugX\n",
      "drugY\n",
      "drugX\n"
     ]
    }
   ],
   "source": [
    "# your code here\n",
    "yt = y_testset.to_numpy()\n",
    "for i in range(predTree.size):\n",
    "    print( yt[i] )\n",
    "    \n",
    "    "
   ]
  },
  {
   "cell_type": "markdown",
   "metadata": {},
   "source": [
    "<hr>\n",
    "\n",
    "<div id=\"visualization\">\n",
    "    <h2>Visualization</h2>\n",
    "    Lets visualize the tree\n",
    "</div>"
   ]
  },
  {
   "cell_type": "code",
   "execution_count": 9,
   "metadata": {},
   "outputs": [
    {
     "name": "stdout",
     "output_type": "stream",
     "text": [
      "Collecting package metadata (current_repodata.json): ...working... done\n",
      "Solving environment: ...working... done\n",
      "\n",
      "## Package Plan ##\n",
      "\n",
      "  environment location: C:\\ProgramData\\Anaconda3\n",
      "\n",
      "  added / updated specs:\n",
      "    - pydotplus\n",
      "\n",
      "\n",
      "The following packages will be downloaded:\n",
      "\n",
      "    package                    |            build\n",
      "    ---------------------------|-----------------\n",
      "    conda-4.8.3                |   py37hc8dfbb8_1         3.1 MB  conda-forge\n",
      "    graphviz-2.38.0            |    h6538335_1011        41.0 MB  conda-forge\n",
      "    pydotplus-2.0.2            |             py_2          23 KB  conda-forge\n",
      "    python_abi-3.7             |          1_cp37m           4 KB  conda-forge\n",
      "    ------------------------------------------------------------\n",
      "                                           Total:        44.1 MB\n",
      "\n",
      "The following NEW packages will be INSTALLED:\n",
      "\n",
      "  graphviz           conda-forge/win-64::graphviz-2.38.0-h6538335_1011\n",
      "  pydotplus          conda-forge/noarch::pydotplus-2.0.2-py_2\n",
      "  python_abi         conda-forge/win-64::python_abi-3.7-1_cp37m\n",
      "\n",
      "The following packages will be UPDATED:\n",
      "\n",
      "  conda                      pkgs/main::conda-4.7.12-py37_0 --> conda-forge::conda-4.8.3-py37hc8dfbb8_1\n",
      "\n",
      "\n",
      "\n",
      "Downloading and Extracting Packages\n",
      "\n",
      "conda-4.8.3          | 3.1 MB    |            |   0% \n",
      "conda-4.8.3          | 3.1 MB    |            |   1% \n",
      "conda-4.8.3          | 3.1 MB    | 7          |   7% \n",
      "conda-4.8.3          | 3.1 MB    | #1         |  11% \n",
      "conda-4.8.3          | 3.1 MB    | #4         |  14% \n",
      "conda-4.8.3          | 3.1 MB    | ##5        |  25% \n",
      "conda-4.8.3          | 3.1 MB    | ##8        |  29% \n",
      "conda-4.8.3          | 3.1 MB    | ####2      |  43% \n",
      "conda-4.8.3          | 3.1 MB    | ####8      |  49% \n",
      "conda-4.8.3          | 3.1 MB    | #####4     |  54% \n",
      "conda-4.8.3          | 3.1 MB    | ######     |  60% \n",
      "conda-4.8.3          | 3.1 MB    | ######5    |  65% \n",
      "conda-4.8.3          | 3.1 MB    | #######1   |  71% \n",
      "conda-4.8.3          | 3.1 MB    | #######6   |  76% \n",
      "conda-4.8.3          | 3.1 MB    | ########   |  81% \n",
      "conda-4.8.3          | 3.1 MB    | ########5  |  85% \n",
      "conda-4.8.3          | 3.1 MB    | #########  |  90% \n",
      "conda-4.8.3          | 3.1 MB    | #########4 |  95% \n",
      "conda-4.8.3          | 3.1 MB    | ########## | 100% \n",
      "\n",
      "graphviz-2.38.0      | 41.0 MB   |            |   0% \n",
      "graphviz-2.38.0      | 41.0 MB   |            |   0% \n",
      "graphviz-2.38.0      | 41.0 MB   |            |   0% \n",
      "graphviz-2.38.0      | 41.0 MB   |            |   1% \n",
      "graphviz-2.38.0      | 41.0 MB   | 1          |   1% \n",
      "graphviz-2.38.0      | 41.0 MB   | 1          |   1% \n",
      "graphviz-2.38.0      | 41.0 MB   | 1          |   2% \n",
      "graphviz-2.38.0      | 41.0 MB   | 1          |   2% \n",
      "graphviz-2.38.0      | 41.0 MB   | 2          |   3% \n",
      "graphviz-2.38.0      | 41.0 MB   | 3          |   3% \n",
      "graphviz-2.38.0      | 41.0 MB   | 3          |   3% \n",
      "graphviz-2.38.0      | 41.0 MB   | 3          |   4% \n",
      "graphviz-2.38.0      | 41.0 MB   | 4          |   4% \n",
      "graphviz-2.38.0      | 41.0 MB   | 4          |   5% \n",
      "graphviz-2.38.0      | 41.0 MB   | 4          |   5% \n",
      "graphviz-2.38.0      | 41.0 MB   | 5          |   5% \n",
      "graphviz-2.38.0      | 41.0 MB   | 5          |   6% \n",
      "graphviz-2.38.0      | 41.0 MB   | 5          |   6% \n",
      "graphviz-2.38.0      | 41.0 MB   | 6          |   6% \n",
      "graphviz-2.38.0      | 41.0 MB   | 6          |   7% \n",
      "graphviz-2.38.0      | 41.0 MB   | 7          |   7% \n",
      "graphviz-2.38.0      | 41.0 MB   | 7          |   8% \n",
      "graphviz-2.38.0      | 41.0 MB   | 8          |   9% \n",
      "graphviz-2.38.0      | 41.0 MB   | 8          |   9% \n",
      "graphviz-2.38.0      | 41.0 MB   | 9          |   9% \n",
      "graphviz-2.38.0      | 41.0 MB   | 9          |  10% \n",
      "graphviz-2.38.0      | 41.0 MB   | #          |  10% \n",
      "graphviz-2.38.0      | 41.0 MB   | #          |  11% \n",
      "graphviz-2.38.0      | 41.0 MB   | #1         |  11% \n",
      "graphviz-2.38.0      | 41.0 MB   | #1         |  12% \n",
      "graphviz-2.38.0      | 41.0 MB   | #2         |  12% \n",
      "graphviz-2.38.0      | 41.0 MB   | #2         |  12% \n",
      "graphviz-2.38.0      | 41.0 MB   | #2         |  13% \n",
      "graphviz-2.38.0      | 41.0 MB   | #3         |  13% \n",
      "graphviz-2.38.0      | 41.0 MB   | #3         |  14% \n",
      "graphviz-2.38.0      | 41.0 MB   | #3         |  14% \n",
      "graphviz-2.38.0      | 41.0 MB   | #4         |  14% \n",
      "graphviz-2.38.0      | 41.0 MB   | #4         |  15% \n",
      "graphviz-2.38.0      | 41.0 MB   | #5         |  15% \n",
      "graphviz-2.38.0      | 41.0 MB   | #5         |  16% \n",
      "graphviz-2.38.0      | 41.0 MB   | #6         |  16% \n",
      "graphviz-2.38.0      | 41.0 MB   | #7         |  17% \n",
      "graphviz-2.38.0      | 41.0 MB   | #7         |  18% \n",
      "graphviz-2.38.0      | 41.0 MB   | #8         |  18% \n",
      "graphviz-2.38.0      | 41.0 MB   | #8         |  19% \n",
      "graphviz-2.38.0      | 41.0 MB   | #9         |  19% \n",
      "graphviz-2.38.0      | 41.0 MB   | #9         |  20% \n",
      "graphviz-2.38.0      | 41.0 MB   | ##         |  20% \n",
      "graphviz-2.38.0      | 41.0 MB   | ##         |  20% \n",
      "graphviz-2.38.0      | 41.0 MB   | ##         |  21% \n",
      "graphviz-2.38.0      | 41.0 MB   | ##1        |  21% \n",
      "graphviz-2.38.0      | 41.0 MB   | ##1        |  22% \n",
      "graphviz-2.38.0      | 41.0 MB   | ##2        |  22% \n",
      "graphviz-2.38.0      | 41.0 MB   | ##2        |  22% \n",
      "graphviz-2.38.0      | 41.0 MB   | ##2        |  23% \n",
      "graphviz-2.38.0      | 41.0 MB   | ##3        |  23% \n",
      "graphviz-2.38.0      | 41.0 MB   | ##3        |  24% \n",
      "graphviz-2.38.0      | 41.0 MB   | ##4        |  24% \n",
      "graphviz-2.38.0      | 41.0 MB   | ##4        |  24% \n",
      "graphviz-2.38.0      | 41.0 MB   | ##4        |  25% \n",
      "graphviz-2.38.0      | 41.0 MB   | ##5        |  25% \n",
      "graphviz-2.38.0      | 41.0 MB   | ##5        |  26% \n",
      "graphviz-2.38.0      | 41.0 MB   | ##5        |  26% \n",
      "graphviz-2.38.0      | 41.0 MB   | ##6        |  26% \n",
      "graphviz-2.38.0      | 41.0 MB   | ##6        |  27% \n",
      "graphviz-2.38.0      | 41.0 MB   | ##7        |  27% \n",
      "graphviz-2.38.0      | 41.0 MB   | ##7        |  28% \n",
      "graphviz-2.38.0      | 41.0 MB   | ##8        |  28% \n",
      "graphviz-2.38.0      | 41.0 MB   | ##8        |  29% \n",
      "graphviz-2.38.0      | 41.0 MB   | ##9        |  29% \n",
      "graphviz-2.38.0      | 41.0 MB   | ##9        |  29% \n",
      "graphviz-2.38.0      | 41.0 MB   | ###        |  30% \n",
      "graphviz-2.38.0      | 41.0 MB   | ###        |  31% \n",
      "graphviz-2.38.0      | 41.0 MB   | ###1       |  31% \n",
      "graphviz-2.38.0      | 41.0 MB   | ###1       |  32% \n",
      "graphviz-2.38.0      | 41.0 MB   | ###2       |  32% \n",
      "graphviz-2.38.0      | 41.0 MB   | ###2       |  32% \n",
      "graphviz-2.38.0      | 41.0 MB   | ###3       |  33% \n",
      "graphviz-2.38.0      | 41.0 MB   | ###3       |  33% \n",
      "graphviz-2.38.0      | 41.0 MB   | ###3       |  34% \n",
      "graphviz-2.38.0      | 41.0 MB   | ###4       |  34% \n",
      "graphviz-2.38.0      | 41.0 MB   | ###4       |  35% \n",
      "graphviz-2.38.0      | 41.0 MB   | ###5       |  35% \n",
      "graphviz-2.38.0      | 41.0 MB   | ###5       |  36% \n",
      "graphviz-2.38.0      | 41.0 MB   | ###6       |  36% \n",
      "graphviz-2.38.0      | 41.0 MB   | ###6       |  37% \n",
      "graphviz-2.38.0      | 41.0 MB   | ###7       |  37% \n",
      "graphviz-2.38.0      | 41.0 MB   | ###7       |  37% \n",
      "graphviz-2.38.0      | 41.0 MB   | ###7       |  38% \n",
      "graphviz-2.38.0      | 41.0 MB   | ###8       |  38% \n",
      "graphviz-2.38.0      | 41.0 MB   | ###8       |  39% \n",
      "graphviz-2.38.0      | 41.0 MB   | ###8       |  39% \n",
      "graphviz-2.38.0      | 41.0 MB   | ###9       |  39% \n",
      "graphviz-2.38.0      | 41.0 MB   | ###9       |  40% \n",
      "graphviz-2.38.0      | 41.0 MB   | ###9       |  40% \n",
      "graphviz-2.38.0      | 41.0 MB   | ####       |  40% \n",
      "graphviz-2.38.0      | 41.0 MB   | ####       |  41% \n",
      "graphviz-2.38.0      | 41.0 MB   | ####1      |  41% \n",
      "graphviz-2.38.0      | 41.0 MB   | ####1      |  42% \n",
      "graphviz-2.38.0      | 41.0 MB   | ####1      |  42% \n",
      "graphviz-2.38.0      | 41.0 MB   | ####2      |  42% \n",
      "graphviz-2.38.0      | 41.0 MB   | ####2      |  43% \n",
      "graphviz-2.38.0      | 41.0 MB   | ####2      |  43% \n",
      "graphviz-2.38.0      | 41.0 MB   | ####3      |  43% \n",
      "graphviz-2.38.0      | 41.0 MB   | ####3      |  44% \n",
      "graphviz-2.38.0      | 41.0 MB   | ####4      |  44% \n",
      "graphviz-2.38.0      | 41.0 MB   | ####4      |  44% \n",
      "graphviz-2.38.0      | 41.0 MB   | ####4      |  45% \n",
      "graphviz-2.38.0      | 41.0 MB   | ####5      |  45% \n",
      "graphviz-2.38.0      | 41.0 MB   | ####5      |  46% \n",
      "graphviz-2.38.0      | 41.0 MB   | ####6      |  46% \n",
      "graphviz-2.38.0      | 41.0 MB   | ####6      |  47% \n",
      "graphviz-2.38.0      | 41.0 MB   | ####6      |  47% \n",
      "graphviz-2.38.0      | 41.0 MB   | ####7      |  47% \n",
      "graphviz-2.38.0      | 41.0 MB   | ####7      |  48% \n",
      "graphviz-2.38.0      | 41.0 MB   | ####8      |  48% \n",
      "graphviz-2.38.0      | 41.0 MB   | ####8      |  49% \n",
      "graphviz-2.38.0      | 41.0 MB   | ####9      |  49% \n",
      "graphviz-2.38.0      | 41.0 MB   | ####9      |  50% \n",
      "graphviz-2.38.0      | 41.0 MB   | ####9      |  50% \n",
      "graphviz-2.38.0      | 41.0 MB   | #####      |  50% \n",
      "graphviz-2.38.0      | 41.0 MB   | #####      |  51% \n",
      "graphviz-2.38.0      | 41.0 MB   | #####      |  51% \n",
      "graphviz-2.38.0      | 41.0 MB   | #####1     |  52% \n",
      "graphviz-2.38.0      | 41.0 MB   | #####2     |  52% \n",
      "graphviz-2.38.0      | 41.0 MB   | #####2     |  53% \n",
      "graphviz-2.38.0      | 41.0 MB   | #####2     |  53% \n",
      "graphviz-2.38.0      | 41.0 MB   | #####3     |  53% \n",
      "graphviz-2.38.0      | 41.0 MB   | #####4     |  54% \n",
      "graphviz-2.38.0      | 41.0 MB   | #####4     |  55% \n",
      "graphviz-2.38.0      | 41.0 MB   | #####5     |  55% \n",
      "graphviz-2.38.0      | 41.0 MB   | #####5     |  56% \n",
      "graphviz-2.38.0      | 41.0 MB   | #####6     |  56% \n",
      "graphviz-2.38.0      | 41.0 MB   | #####6     |  57% \n",
      "graphviz-2.38.0      | 41.0 MB   | #####7     |  57% \n",
      "graphviz-2.38.0      | 41.0 MB   | #####7     |  58% \n",
      "graphviz-2.38.0      | 41.0 MB   | #####8     |  58% \n",
      "graphviz-2.38.0      | 41.0 MB   | #####8     |  59% \n",
      "graphviz-2.38.0      | 41.0 MB   | #####9     |  59% \n",
      "graphviz-2.38.0      | 41.0 MB   | #####9     |  60% \n",
      "graphviz-2.38.0      | 41.0 MB   | ######     |  60% \n",
      "graphviz-2.38.0      | 41.0 MB   | ######     |  61% \n",
      "graphviz-2.38.0      | 41.0 MB   | ######1    |  61% \n",
      "graphviz-2.38.0      | 41.0 MB   | ######1    |  62% \n",
      "graphviz-2.38.0      | 41.0 MB   | ######2    |  62% \n",
      "graphviz-2.38.0      | 41.0 MB   | ######2    |  63% \n",
      "graphviz-2.38.0      | 41.0 MB   | ######3    |  63% \n",
      "graphviz-2.38.0      | 41.0 MB   | ######3    |  64% \n",
      "graphviz-2.38.0      | 41.0 MB   | ######4    |  64% \n",
      "graphviz-2.38.0      | 41.0 MB   | ######4    |  65% \n",
      "graphviz-2.38.0      | 41.0 MB   | ######5    |  65% \n",
      "graphviz-2.38.0      | 41.0 MB   | ######5    |  66% \n",
      "graphviz-2.38.0      | 41.0 MB   | ######6    |  66% \n",
      "graphviz-2.38.0      | 41.0 MB   | ######6    |  67% \n",
      "graphviz-2.38.0      | 41.0 MB   | ######7    |  67% \n",
      "graphviz-2.38.0      | 41.0 MB   | ######7    |  68% \n",
      "graphviz-2.38.0      | 41.0 MB   | ######8    |  68% \n",
      "graphviz-2.38.0      | 41.0 MB   | ######8    |  69% \n",
      "graphviz-2.38.0      | 41.0 MB   | ######9    |  69% \n",
      "graphviz-2.38.0      | 41.0 MB   | ######9    |  70% \n",
      "graphviz-2.38.0      | 41.0 MB   | ######9    |  70% \n",
      "graphviz-2.38.0      | 41.0 MB   | #######    |  70% \n",
      "graphviz-2.38.0      | 41.0 MB   | #######    |  71% \n",
      "graphviz-2.38.0      | 41.0 MB   | #######    |  71% \n",
      "graphviz-2.38.0      | 41.0 MB   | #######2   |  72% \n",
      "graphviz-2.38.0      | 41.0 MB   | #######2   |  73% \n",
      "graphviz-2.38.0      | 41.0 MB   | #######3   |  73% \n",
      "graphviz-2.38.0      | 41.0 MB   | #######3   |  74% \n",
      "graphviz-2.38.0      | 41.0 MB   | #######4   |  74% \n",
      "graphviz-2.38.0      | 41.0 MB   | #######4   |  75% \n",
      "graphviz-2.38.0      | 41.0 MB   | #######5   |  75% \n",
      "graphviz-2.38.0      | 41.0 MB   | #######5   |  75% \n",
      "graphviz-2.38.0      | 41.0 MB   | #######5   |  76% \n",
      "graphviz-2.38.0      | 41.0 MB   | #######6   |  76% \n",
      "graphviz-2.38.0      | 41.0 MB   | #######6   |  76% \n",
      "graphviz-2.38.0      | 41.0 MB   | #######6   |  77% \n",
      "graphviz-2.38.0      | 41.0 MB   | #######7   |  77% \n",
      "graphviz-2.38.0      | 41.0 MB   | #######7   |  77% \n",
      "graphviz-2.38.0      | 41.0 MB   | #######7   |  78% \n",
      "graphviz-2.38.0      | 41.0 MB   | #######8   |  78% \n",
      "graphviz-2.38.0      | 41.0 MB   | #######8   |  78% \n",
      "graphviz-2.38.0      | 41.0 MB   | #######8   |  79% \n",
      "graphviz-2.38.0      | 41.0 MB   | #######8   |  79% \n",
      "graphviz-2.38.0      | 41.0 MB   | #######9   |  79% \n",
      "graphviz-2.38.0      | 41.0 MB   | #######9   |  80% \n",
      "graphviz-2.38.0      | 41.0 MB   | #######9   |  80% \n",
      "graphviz-2.38.0      | 41.0 MB   | ########   |  80% \n",
      "graphviz-2.38.0      | 41.0 MB   | ########   |  81% \n",
      "graphviz-2.38.0      | 41.0 MB   | ########1  |  81% \n",
      "graphviz-2.38.0      | 41.0 MB   | ########1  |  82% \n",
      "graphviz-2.38.0      | 41.0 MB   | ########1  |  82% \n",
      "graphviz-2.38.0      | 41.0 MB   | ########2  |  82% \n",
      "graphviz-2.38.0      | 41.0 MB   | ########2  |  83% \n",
      "graphviz-2.38.0      | 41.0 MB   | ########3  |  83% \n",
      "graphviz-2.38.0      | 41.0 MB   | ########3  |  84% \n",
      "graphviz-2.38.0      | 41.0 MB   | ########3  |  84% \n",
      "graphviz-2.38.0      | 41.0 MB   | ########4  |  84% \n",
      "graphviz-2.38.0      | 41.0 MB   | ########4  |  85% \n",
      "graphviz-2.38.0      | 41.0 MB   | ########4  |  85% \n",
      "graphviz-2.38.0      | 41.0 MB   | ########5  |  85% \n",
      "graphviz-2.38.0      | 41.0 MB   | ########5  |  86% \n",
      "graphviz-2.38.0      | 41.0 MB   | ########6  |  87% \n",
      "graphviz-2.38.0      | 41.0 MB   | ########7  |  87% \n",
      "graphviz-2.38.0      | 41.0 MB   | ########7  |  88% \n",
      "graphviz-2.38.0      | 41.0 MB   | ########8  |  88% \n",
      "graphviz-2.38.0      | 41.0 MB   | ########8  |  89% \n",
      "graphviz-2.38.0      | 41.0 MB   | ########9  |  89% \n",
      "graphviz-2.38.0      | 41.0 MB   | ########9  |  90% \n",
      "graphviz-2.38.0      | 41.0 MB   | #########  |  90% \n",
      "graphviz-2.38.0      | 41.0 MB   | #########  |  91% \n",
      "graphviz-2.38.0      | 41.0 MB   | #########  |  91% \n",
      "graphviz-2.38.0      | 41.0 MB   | #########1 |  92% \n",
      "graphviz-2.38.0      | 41.0 MB   | #########1 |  92% \n",
      "graphviz-2.38.0      | 41.0 MB   | #########2 |  93% \n",
      "graphviz-2.38.0      | 41.0 MB   | #########3 |  93% \n",
      "graphviz-2.38.0      | 41.0 MB   | #########3 |  94% \n",
      "graphviz-2.38.0      | 41.0 MB   | #########4 |  94% \n",
      "graphviz-2.38.0      | 41.0 MB   | #########4 |  95% \n",
      "graphviz-2.38.0      | 41.0 MB   | #########4 |  95% \n",
      "graphviz-2.38.0      | 41.0 MB   | #########5 |  95% \n",
      "graphviz-2.38.0      | 41.0 MB   | #########5 |  96% \n",
      "graphviz-2.38.0      | 41.0 MB   | #########6 |  96% \n",
      "graphviz-2.38.0      | 41.0 MB   | #########6 |  97% \n",
      "graphviz-2.38.0      | 41.0 MB   | #########7 |  97% \n",
      "graphviz-2.38.0      | 41.0 MB   | #########7 |  97% \n",
      "graphviz-2.38.0      | 41.0 MB   | #########8 |  98% \n",
      "graphviz-2.38.0      | 41.0 MB   | #########8 |  99% \n",
      "graphviz-2.38.0      | 41.0 MB   | #########9 |  99% \n",
      "graphviz-2.38.0      | 41.0 MB   | #########9 | 100% \n",
      "graphviz-2.38.0      | 41.0 MB   | ########## | 100% \n",
      "\n",
      "pydotplus-2.0.2      | 23 KB     |            |   0% \n",
      "pydotplus-2.0.2      | 23 KB     | ######9    |  69% \n",
      "pydotplus-2.0.2      | 23 KB     | ########## | 100% \n",
      "\n",
      "python_abi-3.7       | 4 KB      |            |   0% \n",
      "python_abi-3.7       | 4 KB      | ########## | 100% \n",
      "Preparing transaction: ...working... done\n",
      "Verifying transaction: ...working... failed\n"
     ]
    },
    {
     "name": "stderr",
     "output_type": "stream",
     "text": [
      "\n",
      "\n",
      "==> WARNING: A newer version of conda exists. <==\n",
      "  current version: 4.7.12\n",
      "  latest version: 4.8.3\n",
      "\n",
      "Please update conda by running\n",
      "\n",
      "    $ conda update -n base -c defaults conda\n",
      "\n",
      "\n",
      "\n",
      "EnvironmentNotWritableError: The current user does not have write permissions to the target environment.\n",
      "  environment location: C:\\ProgramData\\Anaconda3\n",
      "\n",
      "\n"
     ]
    },
    {
     "name": "stdout",
     "output_type": "stream",
     "text": [
      "Collecting package metadata (current_repodata.json): ...working... done\n",
      "Solving environment: ...working... done\n",
      "\n",
      "## Package Plan ##\n",
      "\n",
      "  environment location: C:\\ProgramData\\Anaconda3\n",
      "\n",
      "  added / updated specs:\n",
      "    - python-graphviz\n",
      "\n",
      "\n",
      "The following packages will be downloaded:\n",
      "\n",
      "    package                    |            build\n",
      "    ---------------------------|-----------------\n",
      "    python-graphviz-0.13.2     |             py_0          18 KB  conda-forge\n",
      "    ------------------------------------------------------------\n",
      "                                           Total:          18 KB\n",
      "\n",
      "The following NEW packages will be INSTALLED:\n",
      "\n",
      "  graphviz           conda-forge/win-64::graphviz-2.38.0-h6538335_1011\n",
      "  python-graphviz    conda-forge/noarch::python-graphviz-0.13.2-py_0\n",
      "  python_abi         conda-forge/win-64::python_abi-3.7-1_cp37m\n",
      "\n",
      "The following packages will be UPDATED:\n",
      "\n",
      "  conda                      pkgs/main::conda-4.7.12-py37_0 --> conda-forge::conda-4.8.3-py37hc8dfbb8_1\n",
      "\n",
      "\n",
      "\n",
      "Downloading and Extracting Packages\n",
      "\n",
      "python-graphviz-0.13 | 18 KB     |            |   0% \n",
      "python-graphviz-0.13 | 18 KB     | ########8  |  88% \n",
      "python-graphviz-0.13 | 18 KB     | ########## | 100% \n",
      "Preparing transaction: ...working... done\n",
      "Verifying transaction: ...working... failed\n"
     ]
    },
    {
     "name": "stderr",
     "output_type": "stream",
     "text": [
      "\n",
      "\n",
      "==> WARNING: A newer version of conda exists. <==\n",
      "  current version: 4.7.12\n",
      "  latest version: 4.8.3\n",
      "\n",
      "Please update conda by running\n",
      "\n",
      "    $ conda update -n base -c defaults conda\n",
      "\n",
      "\n",
      "\n",
      "EnvironmentNotWritableError: The current user does not have write permissions to the target environment.\n",
      "  environment location: C:\\ProgramData\\Anaconda3\n",
      "\n",
      "\n"
     ]
    }
   ],
   "source": [
    "# Notice: You might need to uncomment and install the pydotplus and graphviz libraries if you have not installed these before\n",
    "!conda install -c conda-forge pydotplus -y\n",
    "!conda install -c conda-forge python-graphviz -y"
   ]
  },
  {
   "cell_type": "code",
   "execution_count": 33,
   "metadata": {
    "button": false,
    "new_sheet": false,
    "run_control": {
     "read_only": false
    }
   },
   "outputs": [],
   "source": [
    "from sklearn.externals.six import StringIO\n",
    "import pydotplus\n",
    "import matplotlib.image as mpimg\n",
    "from sklearn import tree\n",
    "%matplotlib inline "
   ]
  },
  {
   "cell_type": "code",
   "execution_count": null,
   "metadata": {
    "button": false,
    "collapsed": true,
    "jupyter": {
     "outputs_hidden": true
    },
    "new_sheet": false,
    "run_control": {
     "read_only": false
    }
   },
   "outputs": [],
   "source": [
    "dot_data = StringIO()\n",
    "filename = \"drugtree.png\"\n",
    "featureNames = my_data.columns[0:5]\n",
    "targetNames = my_data[\"Drug\"].unique().tolist()\n",
    "out=tree.export_graphviz(drugTree,feature_names=featureNames, out_file=dot_data, class_names= np.unique(y_trainset), filled=True,  special_characters=True,rotate=False)  \n",
    "graph = pydotplus.graph_from_dot_data(dot_data.getvalue())  \n",
    "graph.write_png(filename)\n",
    "img = mpimg.imread(filename)\n",
    "plt.figure(figsize=(100, 200))\n",
    "plt.imshow(img,interpolation='nearest')"
   ]
  },
  {
   "cell_type": "markdown",
   "metadata": {
    "button": false,
    "new_sheet": false,
    "run_control": {
     "read_only": false
    }
   },
   "source": [
    "<h2>Want to learn more?</h2>\n",
    "\n",
    "IBM SPSS Modeler is a comprehensive analytics platform that has many machine learning algorithms. It has been designed to bring predictive intelligence to decisions made by individuals, by groups, by systems – by your enterprise as a whole. A free trial is available through this course, available here: <a href=\"http://cocl.us/ML0101EN-SPSSModeler\">SPSS Modeler</a>\n",
    "\n",
    "Also, you can use Watson Studio to run these notebooks faster with bigger datasets. Watson Studio is IBM's leading cloud solution for data scientists, built by data scientists. With Jupyter notebooks, RStudio, Apache Spark and popular libraries pre-packaged in the cloud, Watson Studio enables data scientists to collaborate on their projects without having to install anything. Join the fast-growing community of Watson Studio users today with a free account at <a href=\"https://cocl.us/ML0101EN_DSX\">Watson Studio</a>\n",
    "\n",
    "<h3>Thanks for completing this lesson!</h3>\n",
    "\n",
    "<h4>Author:  <a href=\"https://ca.linkedin.com/in/saeedaghabozorgi\">Saeed Aghabozorgi</a></h4>\n",
    "<p><a href=\"https://ca.linkedin.com/in/saeedaghabozorgi\">Saeed Aghabozorgi</a>, PhD is a Data Scientist in IBM with a track record of developing enterprise level applications that substantially increases clients’ ability to turn data into actionable knowledge. He is a researcher in data mining field and expert in developing advanced analytic methods like machine learning and statistical modelling on large datasets.</p>\n",
    "\n",
    "<hr>\n",
    "\n",
    "<p>Copyright &copy; 2018 <a href=\"https://cocl.us/DX0108EN_CC\">Cognitive Class</a>. This notebook and its source code are released under the terms of the <a href=\"https://bigdatauniversity.com/mit-license/\">MIT License</a>.</p>"
   ]
  }
 ],
 "metadata": {
  "anaconda-cloud": {},
  "kernelspec": {
   "display_name": "Python 3",
   "language": "python",
   "name": "python3"
  },
  "language_info": {
   "codemirror_mode": {
    "name": "ipython",
    "version": 3
   },
   "file_extension": ".py",
   "mimetype": "text/x-python",
   "name": "python",
   "nbconvert_exporter": "python",
   "pygments_lexer": "ipython3",
   "version": "3.7.4"
  },
  "widgets": {
   "state": {},
   "version": "1.1.2"
  }
 },
 "nbformat": 4,
 "nbformat_minor": 4
}
